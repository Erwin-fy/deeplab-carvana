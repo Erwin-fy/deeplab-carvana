{
 "cells": [
  {
   "cell_type": "code",
   "execution_count": 11,
   "metadata": {
    "collapsed": false
   },
   "outputs": [
    {
     "data": {
      "image/png": "[encoded data removed]",
      "text/plain": [
       "<matplotlib.figure.Figure at 0x7fcb30d72210>"
      ]
     },
     "metadata": {},
     "output_type": "display_data"
    }
   ],
   "source": [
    "import cv2\n",
    "import numpy as np\n",
    "# visualise car error\n",
    "from matplotlib import pyplot as plt\n",
    "from skimage import measure, morphology\n",
    "\n",
    "\n",
    "res = '../carvana/features/VGG_16/test/fc8/'\n",
    "#res = '/media/Disk/wangfuyu/Carvana/train_hq/SegmentationClass/'\n",
    "\n",
    "img = cv2.imread(res + '2ac699eaa74e_01.png')\n",
    "#img = img * 255\n",
    "gray = cv2.cvtColor(img, cv2.COLOR_BGR2GRAY)\n",
    "\n",
    "plt.figure(figsize=(15,15))\n",
    "\n",
    "#plt.imshow(gray)\n",
    "#plt.show()\n",
    "ret, thresh = cv2.threshold(gray, 127, 255, 0)\n",
    "# #plt.imshow(thresh)\n",
    "\n",
    "_, contours, hierarchy = cv2.findContours(thresh, cv2.RETR_TREE, cv2.CHAIN_APPROX_SIMPLE)\n",
    "\n",
    "\n",
    "limg = measure.label(img)\n",
    "props = measure.regionprops(limg)\n",
    "props = sorted(props, key=lambda p: -p.area)\n",
    "# mask operation\n",
    "mask = np.uint64(limg == props[0].label)\n",
    "img = np.uint64(img) & mask\n",
    "img = np.uint8(img*255)\n",
    "# #cv2.drawContours(img, contours, -1, (255, 0, 0), 30)\n",
    "\n",
    "# ans_x = 0\n",
    "# ans_y = 0\n",
    "# ans_w = 0\n",
    "# ans_h = 0\n",
    "# max = 0\n",
    "# for index, contour in enumerate(contours):\n",
    "#     x, y, w, h = cv2.boundingRect(contour)\n",
    "#     if w*h < 30000:\n",
    "#         continue\n",
    "    \n",
    "#     if (w*h > max):\n",
    "#         max = w * h\n",
    "#         ans_x = x\n",
    "#         ans_y = y\n",
    "#         ans_w = w\n",
    "#         ans_h = h\n",
    "        \n",
    "# ans_x -= 100\n",
    "# ans_y -= 100\n",
    "# ans_w+=200\n",
    "# ans_h+=200\n",
    "# img = cv2.rectangle(img, (ans_x, ans_y), (ans_x+ans_w, ans_y+ans_h), (0, 0, 255), 10)\n",
    "# #digit = thresh[y:y+h, x:x+w]\n",
    "# print ans_x, ans_y, ans_w, ans_h, ans_w*ans_h\n",
    "    \n",
    "plt.imshow(img)\n",
    "plt.show()\n",
    "   "
   ]
  },
  {
   "cell_type": "code",
   "execution_count": null,
   "metadata": {
    "collapsed": true
   },
   "outputs": [],
   "source": []
  },
  {
   "cell_type": "code",
   "execution_count": null,
   "metadata": {
    "collapsed": false
   },
   "outputs": [],
   "source": []
  },
  {
   "cell_type": "code",
   "execution_count": null,
   "metadata": {
    "collapsed": true
   },
   "outputs": [],
   "source": []
  },
  {
   "cell_type": "code",
   "execution_count": null,
   "metadata": {
    "collapsed": true
   },
   "outputs": [],
   "source": []
  },
  {
   "cell_type": "code",
   "execution_count": null,
   "metadata": {
    "collapsed": true
   },
   "outputs": [],
   "source": []
  }
 ],
 "metadata": {
  "kernelspec": {
   "display_name": "Python 2",
   "language": "python",
   "name": "python2"
  },
  "language_info": {
   "codemirror_mode": {
    "name": "ipython",
    "version": 2
   },
   "file_extension": ".py",
   "mimetype": "text/x-python",
   "name": "python",
   "nbconvert_exporter": "python",
   "pygments_lexer": "ipython2",
   "version": "2.7.13"
  }
 },
 "nbformat": 4,
 "nbformat_minor": 2
}
